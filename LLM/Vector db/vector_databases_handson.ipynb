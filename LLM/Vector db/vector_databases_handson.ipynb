{
  "cells": [
    {
      "cell_type": "markdown",
      "id": "2dd580fa",
      "metadata": {
        "id": "2dd580fa"
      },
      "source": [
        "# Vector Databases — Concepts, Workflow, and Hands‑On with LangChain"
      ]
    },
    {
      "cell_type": "markdown",
      "id": "e49b1932",
      "metadata": {
        "id": "e49b1932"
      },
      "source": [
        "**Goal:** Learn vector DBs end‑to‑end with FAISS, Chroma, Qdrant, Pinecone, Weaviate."
      ]
    },
    {
      "cell_type": "code",
      "execution_count": null,
      "id": "3df6046a",
      "metadata": {
        "id": "3df6046a"
      },
      "outputs": [],
      "source": [
        "# %pip install -q langchain langchain-community langchain-core langchain-text-splitters\n",
        "# %pip install -q faiss-cpu sentence-transformers chromadb qdrant-client weaviate-client pinecone-client"
      ]
    },
    {
      "cell_type": "markdown",
      "id": "c35e38c7",
      "metadata": {
        "id": "c35e38c7"
      },
      "source": [
        "## 1) Why Vector Databases?"
      ]
    },
    {
      "cell_type": "markdown",
      "id": "d0136bf6",
      "metadata": {
        "id": "d0136bf6"
      },
      "source": [
        "Vector DBs enable semantic search with embeddings and ANN indexes."
      ]
    },
    {
      "cell_type": "markdown",
      "id": "d85a422f",
      "metadata": {
        "id": "d85a422f"
      },
      "source": [
        "## 2) Toy Corpus"
      ]
    },
    {
      "cell_type": "code",
      "execution_count": null,
      "id": "31374f30",
      "metadata": {
        "id": "31374f30"
      },
      "outputs": [],
      "source": [
        "toy_corpus = [{'text':'Vector databases enable semantic search','meta':{'topic':'vector_db'}}]"
      ]
    },
    {
      "cell_type": "markdown",
      "id": "43a70751",
      "metadata": {
        "id": "43a70751"
      },
      "source": [
        "## 3) Embeddings (HuggingFace)"
      ]
    },
    {
      "cell_type": "code",
      "execution_count": null,
      "id": "d440cb93",
      "metadata": {
        "id": "d440cb93"
      },
      "outputs": [],
      "source": [
        "from langchain_community.embeddings import HuggingFaceEmbeddings\n",
        "emb = HuggingFaceEmbeddings(model_name='sentence-transformers/all-MiniLM-L6-v2')"
      ]
    },
    {
      "cell_type": "markdown",
      "id": "58d8435b",
      "metadata": {
        "id": "58d8435b"
      },
      "source": [
        "## 4) FAISS Demo"
      ]
    },
    {
      "cell_type": "code",
      "execution_count": null,
      "id": "eba9b031",
      "metadata": {
        "id": "eba9b031"
      },
      "outputs": [],
      "source": [
        "from langchain_community.vectorstores import FAISS\n",
        "from langchain_community.docstore.document import Document\n",
        "from langchain_text_splitters import RecursiveCharacterTextSplitter\n",
        "texts=[d['text'] for d in toy_corpus]\n",
        "docs=[Document(page_content=t) for t in texts]\n",
        "chunks=RecursiveCharacterTextSplitter(chunk_size=200,chunk_overlap=20).split_documents(docs)\n",
        "faiss=FAISS.from_documents(chunks, emb)\n",
        "faiss.similarity_search('semantic search', k=1)"
      ]
    },
    {
      "cell_type": "markdown",
      "id": "ddab592d",
      "metadata": {
        "id": "ddab592d"
      },
      "source": [
        "## 5) Chroma (try/except)"
      ]
    },
    {
      "cell_type": "code",
      "execution_count": null,
      "id": "1a32b9b6",
      "metadata": {
        "id": "1a32b9b6"
      },
      "outputs": [],
      "source": [
        "try:\n",
        "    from langchain_community.vectorstores import Chroma\n",
        "    chroma = Chroma.from_documents(chunks, emb, collection_name='toy')\n",
        "    chroma.similarity_search('semantic', k=1)\n",
        "except Exception as e:\n",
        "    'Chroma not available: '+str(e)"
      ]
    },
    {
      "cell_type": "markdown",
      "id": "5fccc669",
      "metadata": {
        "id": "5fccc669"
      },
      "source": [
        "## 6) Qdrant (try/except)"
      ]
    },
    {
      "cell_type": "code",
      "execution_count": null,
      "id": "891fc099",
      "metadata": {
        "id": "891fc099"
      },
      "outputs": [],
      "source": [
        "try:\n",
        "    from langchain_community.vectorstores import Qdrant\n",
        "    from qdrant_client import QdrantClient\n",
        "    QdrantClient(url='http://localhost:6333')\n",
        "    qvs = Qdrant.from_documents(chunks, emb, url='http://localhost:6333', collection_name='toy_q')\n",
        "    qvs.similarity_search('HNSW', k=1)\n",
        "except Exception as e:\n",
        "    'Qdrant not available: '+str(e)"
      ]
    },
    {
      "cell_type": "markdown",
      "id": "af3b8d13",
      "metadata": {
        "id": "af3b8d13"
      },
      "source": [
        "## 7) Pinecone (commented)"
      ]
    },
    {
      "cell_type": "code",
      "execution_count": null,
      "id": "ab8e3952",
      "metadata": {
        "id": "ab8e3952"
      },
      "outputs": [],
      "source": [
        "# from pinecone import Pinecone, ServerlessSpec\n",
        "# ... setup and search ..."
      ]
    },
    {
      "cell_type": "markdown",
      "id": "bb1f140f",
      "metadata": {
        "id": "bb1f140f"
      },
      "source": [
        "## 8) Weaviate (commented)"
      ]
    },
    {
      "cell_type": "code",
      "execution_count": null,
      "id": "b1c5452a",
      "metadata": {
        "id": "b1c5452a"
      },
      "outputs": [],
      "source": [
        "# import weaviate\n",
        "# ... setup and search ..."
      ]
    },
    {
      "cell_type": "markdown",
      "id": "f9fe0c96",
      "metadata": {
        "id": "f9fe0c96"
      },
      "source": [
        "## 9) Comparison"
      ]
    },
    {
      "cell_type": "markdown",
      "id": "a2c7eb11",
      "metadata": {
        "id": "a2c7eb11"
      },
      "source": [
        "- Index tuning, filters, hybrid, security, observability, eval metrics"
      ]
    },
    {
      "cell_type": "markdown",
      "id": "7974827e",
      "metadata": {
        "id": "7974827e"
      },
      "source": [
        "## 9.1 Production‑Grade Comparison (Deep Dive)\n",
        "\n",
        "The table below compares **FAISS, Chroma, Qdrant, Pinecone, and Weaviate** on factors that matter in production. Values are indicative; verify against current docs & your workload.\n",
        "\n",
        "| Factor | **FAISS** | **Chroma** | **Qdrant** | **Pinecone** | **Weaviate** |\n",
        "|---|---|---|---|---|---|\n",
        "| Deployment model | In‑proc lib | Local/embedded | OSS server (Docker/K8s) | Managed SaaS | OSS server / Cloud |\n",
        "| Primary ANN | Flat/IVF/PQ | HNSW (impl) | **HNSW** | HNSW (managed) | **HNSW** |\n",
        "| Vector types | float32 (CPU/GPU) | float32 | float32 | float32 | float32 |\n",
        "| GPU support | ✅ (FAISS‑GPU) | ❌ | ❌ (via plugins in roadmap) | ❌ (managed infra) | ❌ |\n",
        "| Hybrid (BM25+dense) | Manual fusion | Limited | Plugins/RRF | API-level support | **Native hybrid** |\n",
        "| Filters expressiveness | Client‑side only | Metadata filters | **Rich payload filters** (AND/OR/IN/range/geo) | **Rich filters** | **Rich filters + hybrid scoring** |\n",
        "| Namespaces/collections | Multiple indexes | Collections | Collections | **Namespaces + indexes** | Classes (schemas) |\n",
        "| Sharding & scaling | Process-level only | Single node (basic) | **Sharding/replication** | **Serverless/hosted scaling** | **Sharding/replication** |\n",
        "| Upsert latency | N/A (in‑proc) | Low | Low‑Med | Low (SLA-backed) | Low‑Med |\n",
        "| Query latency (p50) | Low (in‑mem) | Low | Low‑Med | **Low with SLA** | Low‑Med |\n",
        "| Durability (AOF/Snap) | N/A | Disk persist dir | **Snapshots + WAL** | **Managed backups** | **Backups/snapshots** |\n",
        "| DR/HA | Your responsibility | Local | **Replicas + failover** | **Multi‑AZ/region options** | **Replicas + failover** |\n",
        "| Multi‑tenancy / RBAC | In your app | Basic | **Collections + ACL (enterprise)** | **Projects/Indexes + RBAC** | **Tenants/ACL** |\n",
        "| Observability | Your code | Basic logs | **Metrics (Prometheus), logs, traces** | **Dashboards, metrics, logs** | **Metrics, modules** |\n",
        "| Cost model | Infra only | Local | Infra (self‑host) | **Usage‑based SaaS** | Infra (self‑host/cloud) |\n",
        "| Max dim / payload | Compile‑time/host | Moderate | **High dims + payload** | **High dims + payload** | **High dims + payload** |\n",
        "| Third‑party ecosystem | Huge (research) | Good for LLM apps | **Strong OSS community** | **Enterprise ecosystem** | **ML/semantic ecosystem** |\n",
        "| Typical best‑fit | Prototyping, research | Small/medium apps | Scalable OSS prod | Enterprise prod, SLAs | Hybrid search, semantic apps |\n",
        "\n",
        "**When to choose…**\n",
        "- **FAISS:** offline prototyping, research benchmarks, custom GPU pipelines.  \n",
        "- **Chroma:** quick local apps and demos with persistence.  \n",
        "- **Qdrant:** OSS production with filtering, sharding, replicas; K8s friendly.  \n",
        "- **Pinecone:** managed enterprise workloads with SLAs and serverless ops.  \n",
        "- **Weaviate:** hybrid search (BM25 + dense), rich schema, semantic features."
      ]
    },
    {
      "cell_type": "markdown",
      "id": "ad2708c2",
      "metadata": {
        "id": "ad2708c2"
      },
      "source": [
        "## 10) DS Checklist"
      ]
    },
    {
      "cell_type": "markdown",
      "id": "50096c98",
      "metadata": {
        "id": "50096c98"
      },
      "source": [
        "## Data Scientist Production Checklist — with Explanations\n",
        "\n",
        "### 1. Data & Embeddings\n",
        "- **Gold evaluation sets:** curate representative question–answer or document–query pairs; used for offline recall@k or NDCG benchmarking.  \n",
        "- **Embedding drift:** monitor cosine distance between current and baseline embeddings; re-embed if semantic space drifts after model updates or data changes.  \n",
        "- **Versioning:** store model versions, vector index snapshots, and associated metadata (commit IDs) for full reproducibility.  \n",
        "- **Deduplication:** apply MinHash/SimHash or cosine thresholds to remove near-duplicates; enforce TTL or “freshness” policies for time-sensitive content.\n",
        "\n",
        "### 2. Index Design & Tuning\n",
        "- **Choose ANN structure:** HNSW (fast recall, low latency), IVF (large-scale trade-off), PQ/OPQ (compressed storage).  \n",
        "- **Parameter tuning:** adjust `M`, `efConstruction`, `efSearch` (HNSW) or `nlist`, `nprobe` (IVF) to balance recall and latency.  \n",
        "- **Similarity metric:** normalize embeddings for cosine; dot product emphasizes magnitude; Euclidean sensitive to scale.  \n",
        "- **Namespaces/collections:** partition vectors by tenant, region, or domain to reduce cross-contamination.  \n",
        "- **Blue/green rollouts:** build a new index in parallel, validate quality, then switch traffic atomically.\n",
        "\n",
        "### 3. Retrieval Quality\n",
        "- **Query rewriting:** expand under-specified queries using HyDE or multi-query generation for better recall.  \n",
        "- **Reranking:** use cross-encoder models (e.g., MiniLM-reranker) to reorder top-k results by semantic relevance.  \n",
        "- **Hybrid search:** blend BM25 (keyword) and vector results using Reciprocal Rank Fusion (RRF).  \n",
        "- **Metrics:** measure Recall@k (coverage), NDCG (ranking quality), MRR (position sensitivity), and identify queries with no hits.  \n",
        "- **Shadow/AB testing:** evaluate new embeddings or retrievers against live traffic before deployment.\n",
        "\n",
        "### 4. Latency & Capacity\n",
        "- **Service SLOs:** define latency targets (p95 < 200 ms end-to-end).  \n",
        "- **Capacity planning:** memory ≈ `QPS × k × dim × 4 bytes`; plan shards and replicas accordingly.  \n",
        "- **Batch embeddings:** embed documents asynchronously in bulk jobs to reduce API cost.  \n",
        "- **Caching:** store hot vectors or recent queries (LRU/LFU) to cut downstream load.  \n",
        "- **Async upserts:** queue writes to avoid locking read paths.\n",
        "\n",
        "### 5. Security & Compliance\n",
        "- **PII handling:** detect and redact sensitive data before embedding.  \n",
        "- **Access control:** implement RBAC or per-namespace API keys.  \n",
        "- **Encryption:** enforce TLS in transit, encrypted disks/snapshots at rest, and manage keys via KMS.  \n",
        "- **Data residency:** ensure vector and metadata storage comply with local regulations (GDPR, ISO, SOC2).  \n",
        "- **Audit trails:** log queries and upserts with trace IDs for investigation.\n",
        "\n",
        "### 6. Ops & Observability\n",
        "- **Metrics:** collect QPS, latency (p50/p95), recall@k, CPU/memory, index size, ingestion lag.  \n",
        "- **Dashboards:** visualize recall trends vs latency to detect regressions.  \n",
        "- **Alerts:** trigger on recall dips, ingestion backlog, replica failures, or memory pressure.  \n",
        "- **Backups & DR:** automate periodic snapshots; test restore within RPO/RTO windows.  \n",
        "- **Runbooks:** maintain step-by-step guides for failures (e.g., corrupted index, embedding outage).\n",
        "\n",
        "### 7. Cost Management\n",
        "- **Cost attribution:** tag vectors by project/tenant for per-use billing.  \n",
        "- **Compression:** enable PQ or FP16 vectors for 50–70% memory savings.  \n",
        "- **Pruning:** periodically drop stale or low-usage vectors.  \n",
        "- **Scaling model:** use serverless for bursty workloads; dedicated clusters for steady traffic.  \n",
        "- **Batch jobs:** schedule heavy embedding or reindexing off-peak.\n",
        "\n",
        "### 8. Developer Experience & Governance\n",
        "- **Infrastructure as Code:** manage DB and index definitions with Terraform/Helm.  \n",
        "- **CI/CD pipelines:** automate retraining, embedding, and index refresh jobs.  \n",
        "- **Schema evolution:** version metadata schema to avoid breaking API clients.  \n",
        "- **Documentation:** maintain tuning parameters, SLAs, known issues, and troubleshooting guides.  \n",
        "- **On-call readiness:** ensure rotation playbooks and monitoring dashboards are always current."
      ]
    },
    {
      "cell_type": "code",
      "source": [],
      "metadata": {
        "id": "3l8Wr8BcsZ8u"
      },
      "id": "3l8Wr8BcsZ8u",
      "execution_count": null,
      "outputs": []
    }
  ],
  "metadata": {
    "colab": {
      "provenance": []
    }
  },
  "nbformat": 4,
  "nbformat_minor": 5
}