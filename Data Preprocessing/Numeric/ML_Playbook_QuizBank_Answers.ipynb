{
 "cells": [
  {
   "cell_type": "markdown",
   "id": "c7aa62df",
   "metadata": {},
   "source": [
    "# Quiz Bank — Data Cleaning, Preprocessing & Transformation (13 Steps × 5 = 65 Qs)\n",
    "\n",
    "This version is **fully visible**: each question is numbered (Q1..Q65) and followed by an **Answer Key** immediately below.\n",
    "Where useful, you'll also find a **starter code cell** to try the solution.\n",
    "\n",
    "> Tip: Run the bootstrap cell below if you want a ready-made `df` to experiment."
   ]
  },
  {
   "cell_type": "markdown",
   "id": "e7a67f66",
   "metadata": {},
   "source": [
    "### Bootstrap (optional)\n",
    "Creates a synthetic `df` similar to the training notebook."
   ]
  },
  {
   "cell_type": "code",
   "execution_count": null,
   "id": "bc7169ca",
   "metadata": {},
   "outputs": [],
   "source": [
    "import numpy as np, pandas as pd\n",
    "from sklearn.model_selection import train_test_split, cross_val_score\n",
    "from sklearn.impute import SimpleImputer, KNNImputer\n",
    "from sklearn.preprocessing import StandardScaler, OneHotEncoder, OrdinalEncoder, KBinsDiscretizer, RobustScaler\n",
    "from sklearn.compose import ColumnTransformer\n",
    "from sklearn.pipeline import Pipeline\n",
    "from sklearn.decomposition import PCA\n",
    "from sklearn.feature_selection import mutual_info_classif, VarianceThreshold, SelectKBest, RFECV\n",
    "from sklearn.linear_model import LogisticRegression\n",
    "from sklearn.ensemble import RandomForestClassifier\n",
    "from sklearn.metrics import classification_report, f1_score\n",
    "from sklearn.neighbors import LocalOutlierFactor\n",
    "import matplotlib.pyplot as plt\n",
    "\n",
    "rng = np.random.default_rng(7)\n",
    "n = 600\n",
    "df = pd.DataFrame({\n",
    "    \"customer_id\": np.arange(n),\n",
    "    \"age\": rng.integers(18, 70, size=n),\n",
    "    \"income\": rng.normal(60000, 18000, size=n).round(0),\n",
    "    \"tenure_years\": rng.exponential(3, size=n).round(2),\n",
    "    \"segment\": rng.choice([\"A\",\"B\",\"C\"], size=n, p=[0.5,0.3,0.2]),\n",
    "    \"region\": rng.choice([\"North\",\"South\",\"East\",\"West\"], size=n),\n",
    "    \"joined_on\": pd.to_datetime(\"2019-01-01\") + pd.to_timedelta(rng.integers(0, 2200, size=n), unit=\"D\"),\n",
    "    \"notes\": rng.choice([\"loves discounts\", \"calls often\", \"email only\", \"no preference\"], size=n),\n",
    "})\n",
    "# inject issues\n",
    "df.loc[rng.choice(n, 35, replace=False), \"income\"] = np.nan\n",
    "df.loc[rng.choice(n, 15, replace=False), \"age\"] = None\n",
    "df.loc[rng.choice(n, 8, replace=False), \"tenure_years\"] = 120\n",
    "df = pd.concat([df, df.sample(10, random_state=1)], ignore_index=True)  # duplicates\n",
    "# simple target\n",
    "df[\"churn\"] = ((df[\"income\"].fillna(50000) < 55000) | (df[\"tenure_years\"] < 1.5) | (df[\"segment\"]==\"C\")).astype(int)\n",
    "print(\"df shape:\", df.shape)\n",
    "df.head(3)"
   ]
  },
  {
   "cell_type": "markdown",
   "id": "4ad8606a",
   "metadata": {},
   "source": [
    "## Step 1 — Schema & Dtype Validation"
   ]
  },
  {
   "cell_type": "markdown",
   "id": "f766c493",
   "metadata": {},
   "source": [
    "**Q1. Coerce `income` like '40,000' to numeric without crashing; count how many became NaN.**"
   ]
  },
  {
   "cell_type": "markdown",
   "id": "5e66a0ab",
   "metadata": {},
   "source": [
    "**Answer Key (Q1)**"
   ]
  },
  {
   "cell_type": "code",
   "execution_count": null,
   "id": "4a287272",
   "metadata": {},
   "outputs": [],
   "source": [
    "before = df[\"income\"].isna().sum()\n",
    "df[\"income\"] = df[\"income\"].astype(str).str.replace(\",\", \"\", regex=False)\n",
    "df[\"income\"] = pd.to_numeric(df[\"income\"], errors=\"coerce\")\n",
    "after = df[\"income\"].isna().sum()\n",
    "print(\"New NaNs introduced:\", after - before)"
   ]
  },
  {
   "cell_type": "markdown",
   "id": "bd212ae4",
   "metadata": {},
   "source": [
    "**Q2. Parse `joined_on` mixing `YYYY-MM-DD` and `DD/MM/YYYY` robustly; keep unparseable as NaT.**"
   ]
  },
  {
   "cell_type": "markdown",
   "id": "079ad6c5",
   "metadata": {},
   "source": [
    "**Answer Key (Q2)**"
   ]
  },
  {
   "cell_type": "code",
   "execution_count": null,
   "id": "5d2f7ef1",
   "metadata": {},
   "outputs": [],
   "source": [
    "df[\"joined_on\"] = pd.to_datetime(df[\"joined_on\"], errors=\"coerce\", dayfirst=False)  # consider trying dayfirst=True if needed"
   ]
  },
  {
   "cell_type": "markdown",
   "id": "ebd1ed46",
   "metadata": {},
   "source": [
    "**Q3. Safely convert a float column with NaNs to integer.**"
   ]
  },
  {
   "cell_type": "markdown",
   "id": "58fa11d7",
   "metadata": {},
   "source": [
    "**Answer Key (Q3)**"
   ]
  },
  {
   "cell_type": "code",
   "execution_count": null,
   "id": "78e7bed3",
   "metadata": {},
   "outputs": [],
   "source": [
    "df[\"age\"] = pd.to_numeric(df[\"age\"], errors=\"coerce\")\n",
    "df[\"age\"] = df[\"age\"].astype(\"Int64\")  # nullable integer"
   ]
  },
  {
   "cell_type": "markdown",
   "id": "6f57968e",
   "metadata": {},
   "source": [
    "**Q4. Auto-upgrade dtypes; why useful? Show code.**"
   ]
  },
  {
   "cell_type": "markdown",
   "id": "5e4b91f6",
   "metadata": {},
   "source": [
    "**Answer Key (Q4)**"
   ]
  },
  {
   "cell_type": "code",
   "execution_count": null,
   "id": "4c9677fc",
   "metadata": {},
   "outputs": [],
   "source": [
    "df = df.convert_dtypes()  # standardizes to missing-friendly types like Int64/string"
   ]
  },
  {
   "cell_type": "markdown",
   "id": "eac5b81a",
   "metadata": {},
   "source": [
    "**Q5. `customer_id` came as float 101.0; make it strict integer keys.**"
   ]
  },
  {
   "cell_type": "markdown",
   "id": "3bafdef5",
   "metadata": {},
   "source": [
    "**Answer Key (Q5)**"
   ]
  },
  {
   "cell_type": "code",
   "execution_count": null,
   "id": "638cf9fa",
   "metadata": {},
   "outputs": [],
   "source": [
    "df[\"customer_id\"] = pd.to_numeric(df[\"customer_id\"], downcast=\"integer\")\n",
    "assert pd.api.types.is_integer_dtype(df[\"customer_id\"])"
   ]
  },
  {
   "cell_type": "markdown",
   "id": "36e3a0ec",
   "metadata": {},
   "source": [
    "## Step 2 — Text Normalization"
   ]
  },
  {
   "cell_type": "markdown",
   "id": "b73035ea",
   "metadata": {},
   "source": [
    "**Q6. Normalize `region` so 'North ' and 'north' collapse into one category.**"
   ]
  },
  {
   "cell_type": "markdown",
   "id": "18c022d4",
   "metadata": {},
   "source": [
    "**Answer Key (Q6)**"
   ]
  },
  {
   "cell_type": "code",
   "execution_count": null,
   "id": "450947d1",
   "metadata": {},
   "outputs": [],
   "source": [
    "df[\"region\"] = df[\"region\"].astype(str).str.strip().str.lower()"
   ]
  },
  {
   "cell_type": "markdown",
   "id": "8f3593d0",
   "metadata": {},
   "source": [
    "**Q7. In `notes`, collapse multiple spaces to one; keep lower-case.**"
   ]
  },
  {
   "cell_type": "markdown",
   "id": "7664ce33",
   "metadata": {},
   "source": [
    "**Answer Key (Q7)**"
   ]
  },
  {
   "cell_type": "code",
   "execution_count": null,
   "id": "afa76929",
   "metadata": {},
   "outputs": [],
   "source": [
    "df[\"notes\"] = df[\"notes\"].astype(str).str.replace(r\"\\s+\", \" \", regex=True).str.lower()"
   ]
  },
  {
   "cell_type": "markdown",
   "id": "658db27d",
   "metadata": {},
   "source": [
    "**Q8. Why normalize case before one-hot encoding?**"
   ]
  },
  {
   "cell_type": "markdown",
   "id": "9a6e26c4",
   "metadata": {},
   "source": [
    "**Answer Key (Q8)**\n",
    "\n",
    "To avoid category explosion; 'North' vs 'north' should not become separate dummy columns."
   ]
  },
  {
   "cell_type": "markdown",
   "id": "b6ab6dae",
   "metadata": {},
   "source": [
    "**Q9. Clean and print unique values for ['NORTH','South','  East '].**"
   ]
  },
  {
   "cell_type": "markdown",
   "id": "47197780",
   "metadata": {},
   "source": [
    "**Answer Key (Q9)**"
   ]
  },
  {
   "cell_type": "code",
   "execution_count": null,
   "id": "51c7083e",
   "metadata": {},
   "outputs": [],
   "source": [
    "vals = pd.Series(['NORTH','South','  East ']).str.strip().str.lower().unique().tolist(); print(vals)"
   ]
  },
  {
   "cell_type": "markdown",
   "id": "ee57d3e0",
   "metadata": {},
   "source": [
    "**Q10. Risk of lowercasing product reviews before sentiment?**"
   ]
  },
  {
   "cell_type": "markdown",
   "id": "5260558d",
   "metadata": {},
   "source": [
    "**Answer Key (Q10)**\n",
    "\n",
    "Loss of signal from proper nouns/emphasis; consider case-aware features for some tasks."
   ]
  },
  {
   "cell_type": "markdown",
   "id": "5fa5b62a",
   "metadata": {},
   "source": [
    "## Step 3 — De-duplication"
   ]
  },
  {
   "cell_type": "markdown",
   "id": "b4d4d1e6",
   "metadata": {},
   "source": [
    "**Q11. Two rows match on age/region/segment but differ on income. Drop or keep? Justify.**"
   ]
  },
  {
   "cell_type": "markdown",
   "id": "3fe32e28",
   "metadata": {},
   "source": [
    "**Answer Key (Q11)**"
   ]
  },
  {
   "cell_type": "code",
   "execution_count": null,
   "id": "09c8ee7f",
   "metadata": {},
   "outputs": [],
   "source": [
    "Depends on identity definition; if identity is those three fields, keep a rule (e.g., latest by timestamp). Otherwise keep both; they capture variability."
   ]
  },
  {
   "cell_type": "markdown",
   "id": "57eef2a4",
   "metadata": {},
   "source": [
    "**Q12. Count duplicates of customer_id; keep latest by joined_on.**"
   ]
  },
  {
   "cell_type": "markdown",
   "id": "8e16f262",
   "metadata": {},
   "source": [
    "**Answer Key (Q12)**"
   ]
  },
  {
   "cell_type": "code",
   "execution_count": null,
   "id": "f2b891eb",
   "metadata": {},
   "outputs": [],
   "source": [
    "dup_counts = df[\"customer_id\"].value_counts()\n",
    "dupe_ids = dup_counts[dup_counts > 1].index\n",
    "df_sorted = df.sort_values(\"joined_on\")\n",
    "dedup = df_sorted.drop_duplicates(subset=[\"customer_id\"], keep=\"last\")\n",
    "print(\"duplicates:\", len(dupe_ids))"
   ]
  },
  {
   "cell_type": "markdown",
   "id": "5e876c02",
   "metadata": {},
   "source": [
    "**Q13. Why df.duplicated().sum()==0 yet visual duplicates exist?**"
   ]
  },
  {
   "cell_type": "markdown",
   "id": "30a85ff1",
   "metadata": {},
   "source": [
    "**Answer Key (Q13)**\n",
    "\n",
    "Hidden whitespace/casing/type/precision differences; rows are not byte-identical."
   ]
  },
  {
   "cell_type": "markdown",
   "id": "0789761e",
   "metadata": {},
   "source": [
    "**Q14. When keep='first' vs keep='last'?**"
   ]
  },
  {
   "cell_type": "markdown",
   "id": "9e34f4aa",
   "metadata": {},
   "source": [
    "**Answer Key (Q14)**\n",
    "\n",
    "first for earliest record retention; last for most recent/up-to-date values."
   ]
  },
  {
   "cell_type": "markdown",
   "id": "0310204d",
   "metadata": {},
   "source": [
    "**Q15. Drop duplicate rows ignoring case in region.**"
   ]
  },
  {
   "cell_type": "markdown",
   "id": "92c69551",
   "metadata": {},
   "source": [
    "**Answer Key (Q15)**"
   ]
  },
  {
   "cell_type": "code",
   "execution_count": null,
   "id": "b986cd0b",
   "metadata": {},
   "outputs": [],
   "source": [
    "tmp = df.assign(region_norm=df[\"region\"].astype(str).str.strip().str.lower())\n",
    "df_nodup = tmp.drop_duplicates().drop(columns=[\"region_norm\"])"
   ]
  },
  {
   "cell_type": "markdown",
   "id": "f8f42eed",
   "metadata": {},
   "source": [
    "## Step 4 — Missing Values"
   ]
  },
  {
   "cell_type": "markdown",
   "id": "74b5950f",
   "metadata": {},
   "source": [
    "**Q16. 15% missing in income. Mean vs median?**"
   ]
  },
  {
   "cell_type": "markdown",
   "id": "03428f4b",
   "metadata": {},
   "source": [
    "**Answer Key (Q16)**\n",
    "\n",
    "Median is more robust to skew/outliers, typically preferred for income."
   ]
  },
  {
   "cell_type": "markdown",
   "id": "63b80597",
   "metadata": {},
   "source": [
    "**Q17. Add boolean was_missing_income.**"
   ]
  },
  {
   "cell_type": "markdown",
   "id": "78c115d7",
   "metadata": {},
   "source": [
    "**Answer Key (Q17)**"
   ]
  },
  {
   "cell_type": "code",
   "execution_count": null,
   "id": "cd2db51c",
   "metadata": {},
   "outputs": [],
   "source": [
    "df[\"was_missing_income\"] = df[\"income\"].isna().astype(int)"
   ]
  },
  {
   "cell_type": "markdown",
   "id": "45059493",
   "metadata": {},
   "source": [
    "**Q18. Why might KNNImputer beat SimpleImputer for height/weight?**"
   ]
  },
  {
   "cell_type": "markdown",
   "id": "1365aa6d",
   "metadata": {},
   "source": [
    "**Answer Key (Q18)**\n",
    "\n",
    "Leverages local correlations; imputes contextually instead of a single global statistic."
   ]
  },
  {
   "cell_type": "markdown",
   "id": "464d24ae",
   "metadata": {},
   "source": [
    "**Q19. How can constant imputation (-999) bias linear models?**"
   ]
  },
  {
   "cell_type": "markdown",
   "id": "f0dbc0d0",
   "metadata": {},
   "source": [
    "**Answer Key (Q19)**\n",
    "\n",
    "Creates artificial separation; acts like a hidden feature, skewing coefficients."
   ]
  },
  {
   "cell_type": "markdown",
   "id": "b7f50bfb",
   "metadata": {},
   "source": [
    "**Q20. Median impute ↑ accuracy but ↓ recall. Why?**"
   ]
  },
  {
   "cell_type": "markdown",
   "id": "6458f384",
   "metadata": {},
   "source": [
    "**Answer Key (Q20)**\n",
    "\n",
    "Variance shrinkage can blur minority-class signals; classifier becomes conservative."
   ]
  },
  {
   "cell_type": "markdown",
   "id": "efc27d94",
   "metadata": {},
   "source": [
    "## Step 5 — Outliers"
   ]
  },
  {
   "cell_type": "markdown",
   "id": "495e685a",
   "metadata": {},
   "source": [
    "**Q21. Cap tenure_years at the 99th percentile (code).**"
   ]
  },
  {
   "cell_type": "markdown",
   "id": "f4508414",
   "metadata": {},
   "source": [
    "**Answer Key (Q21)**"
   ]
  },
  {
   "cell_type": "code",
   "execution_count": null,
   "id": "9170d4f1",
   "metadata": {},
   "outputs": [],
   "source": [
    "cap = df[\"tenure_years\"].quantile(0.99)\n",
    "df[\"tenure_years\"] = df[\"tenure_years\"].clip(upper=cap)"
   ]
  },
  {
   "cell_type": "markdown",
   "id": "4b5cf8b5",
   "metadata": {},
   "source": [
    "**Q22. Why prefer RobustScaler with outliers?**"
   ]
  },
  {
   "cell_type": "markdown",
   "id": "afcd221d",
   "metadata": {},
   "source": [
    "**Answer Key (Q22)**\n",
    "\n",
    "Uses median/IQR; less sensitive than mean/std used by StandardScaler."
   ]
  },
  {
   "cell_type": "markdown",
   "id": "359a16d9",
   "metadata": {},
   "source": [
    "**Q23. LOF flags 2% rows. Always drop?**"
   ]
  },
  {
   "cell_type": "markdown",
   "id": "f07f121e",
   "metadata": {},
   "source": [
    "**Answer Key (Q23)**"
   ]
  },
  {
   "cell_type": "code",
   "execution_count": null,
   "id": "1d5da10d",
   "metadata": {},
   "outputs": [],
   "source": [
    "No; inspect first—rare but valid events (e.g., fraud) may be informative."
   ]
  },
  {
   "cell_type": "markdown",
   "id": "8b991957",
   "metadata": {},
   "source": [
    "**Q24. Are outliers always bad in fraud detection?**"
   ]
  },
  {
   "cell_type": "markdown",
   "id": "87fc3568",
   "metadata": {},
   "source": [
    "**Answer Key (Q24)**"
   ]
  },
  {
   "cell_type": "code",
   "execution_count": null,
   "id": "26225fbe",
   "metadata": {},
   "outputs": [],
   "source": [
    "No; they might represent the positive class (fraud signals)."
   ]
  },
  {
   "cell_type": "markdown",
   "id": "5500e74e",
   "metadata": {},
   "source": [
    "**Q25. Visualize income before/after capping.**"
   ]
  },
  {
   "cell_type": "markdown",
   "id": "66a991ab",
   "metadata": {},
   "source": [
    "**Answer Key (Q25)**"
   ]
  },
  {
   "cell_type": "code",
   "execution_count": null,
   "id": "027bb71d",
   "metadata": {},
   "outputs": [],
   "source": [
    "ax = df[\"income\"].hist(bins=40); plt.title(\"Income — Raw\"); plt.show()\n",
    "cap = df[\"income\"].quantile(0.99)\n",
    "df_cap = df.copy(); df_cap[\"income\"] = df_cap[\"income\"].clip(upper=cap)\n",
    "df_cap[\"income\"].hist(bins=40); plt.title(\"Income — Capped\"); plt.show()"
   ]
  },
  {
   "cell_type": "markdown",
   "id": "50d8c291",
   "metadata": {},
   "source": [
    "## Step 6 — Business Rule Validation"
   ]
  },
  {
   "cell_type": "markdown",
   "id": "1a7ab596",
   "metadata": {},
   "source": [
    "**Q26. Raise error if age < 18 (code).**"
   ]
  },
  {
   "cell_type": "markdown",
   "id": "9ca3d7f1",
   "metadata": {},
   "source": [
    "**Answer Key (Q26)**"
   ]
  },
  {
   "cell_type": "code",
   "execution_count": null,
   "id": "22d84e19",
   "metadata": {},
   "outputs": [],
   "source": [
    "assert (df[\"age\"].fillna(0) >= 18).all(), \"Found minors in dataset!\""
   ]
  },
  {
   "cell_type": "markdown",
   "id": "becd6cf3",
   "metadata": {},
   "source": [
    "**Q27. Why are assert checks useful at ingestion?**"
   ]
  },
  {
   "cell_type": "markdown",
   "id": "686462b2",
   "metadata": {},
   "source": [
    "**Answer Key (Q27)**\n",
    "\n",
    "Fail fast; catch schema/content issues before expensive modeling."
   ]
  },
  {
   "cell_type": "markdown",
   "id": "bd90991b",
   "metadata": {},
   "source": [
    "**Q28. segment has unexpected 'D'. First step?**"
   ]
  },
  {
   "cell_type": "markdown",
   "id": "46be0b2d",
   "metadata": {},
   "source": [
    "**Answer Key (Q28)**\n",
    "\n",
    "Flag and investigate root cause; avoid silent fixes that hide upstream issues."
   ]
  },
  {
   "cell_type": "markdown",
   "id": "b0143793",
   "metadata": {},
   "source": [
    "**Q29. Schema vs data validation?**"
   ]
  },
  {
   "cell_type": "markdown",
   "id": "5c6e69eb",
   "metadata": {},
   "source": [
    "**Answer Key (Q29)**\n",
    "\n",
    "Schema: structure/types/ranges. Data: content/business rules/anomalies."
   ]
  },
  {
   "cell_type": "markdown",
   "id": "b493e07d",
   "metadata": {},
   "source": [
    "**Q30. Function that returns violations for income and age.**"
   ]
  },
  {
   "cell_type": "markdown",
   "id": "6cc2dd24",
   "metadata": {},
   "source": [
    "**Answer Key (Q30)**"
   ]
  },
  {
   "cell_type": "code",
   "execution_count": null,
   "id": "a34435ca",
   "metadata": {},
   "outputs": [],
   "source": [
    "def validate(df):\n",
    "    errs = {}\n",
    "    if not (df[\"income\"].fillna(0) >= 0).all(): errs[\"income\"] = \"negative/inconsistent\"\n",
    "    if not (df[\"age\"].fillna(0) >= 0).all(): errs[\"age\"] = \"negative\"\n",
    "    return errs\n",
    "validate(df)"
   ]
  },
  {
   "cell_type": "markdown",
   "id": "01af4754",
   "metadata": {},
   "source": [
    "## Step 7 — Categorical Encoding"
   ]
  },
  {
   "cell_type": "markdown",
   "id": "90856213",
   "metadata": {},
   "source": [
    "**Q31. Why can ordinal encoding mislead linear models for education levels?**"
   ]
  },
  {
   "cell_type": "markdown",
   "id": "e0e4eb3a",
   "metadata": {},
   "source": [
    "**Answer Key (Q31)**\n",
    "\n",
    "It imposes numeric spacing/order that may not reflect true effects."
   ]
  },
  {
   "cell_type": "markdown",
   "id": "7cb1d5e7",
   "metadata": {},
   "source": [
    "**Q32. One-hot encode region, drop first category (code).**"
   ]
  },
  {
   "cell_type": "markdown",
   "id": "0fbbe8a2",
   "metadata": {},
   "source": [
    "**Answer Key (Q32)**"
   ]
  },
  {
   "cell_type": "code",
   "execution_count": null,
   "id": "f412f539",
   "metadata": {},
   "outputs": [],
   "source": [
    "ohe = OneHotEncoder(drop=\"first\", handle_unknown=\"ignore\", sparse_output=False)\n",
    "X_region = ohe.fit_transform(df[[\"region\"]])\n",
    "ohe.get_feature_names_out([\"region\"])"
   ]
  },
  {
   "cell_type": "markdown",
   "id": "a9ffd2e1",
   "metadata": {},
   "source": [
    "**Q33. Risk of one-hot encoding city with 10k levels?**"
   ]
  },
  {
   "cell_type": "markdown",
   "id": "b70873a6",
   "metadata": {},
   "source": [
    "**Answer Key (Q33)**\n",
    "\n",
    "Dimensionality blow-up, overfitting, memory; consider hashing/target encoding."
   ]
  },
  {
   "cell_type": "markdown",
   "id": "03af63a5",
   "metadata": {},
   "source": [
    "**Q34. When target encoding?**"
   ]
  },
  {
   "cell_type": "markdown",
   "id": "cda042b4",
   "metadata": {},
   "source": [
    "**Answer Key (Q34)**\n",
    "\n",
    "High-cardinality categoricals with careful CV-based smoothing to avoid leakage."
   ]
  },
  {
   "cell_type": "markdown",
   "id": "51f13660",
   "metadata": {},
   "source": [
    "**Q35. Why label encoding ok for trees but not linear models?**"
   ]
  },
  {
   "cell_type": "markdown",
   "id": "e3bcbbef",
   "metadata": {},
   "source": [
    "**Answer Key (Q35)**\n",
    "\n",
    "Trees split by thresholds; linear models treat labels as continuous values."
   ]
  },
  {
   "cell_type": "markdown",
   "id": "ca1c2c1d",
   "metadata": {},
   "source": [
    "## Step 8 — Scaling"
   ]
  },
  {
   "cell_type": "markdown",
   "id": "98d22d94",
   "metadata": {},
   "source": [
    "**Q36. Apply StandardScaler to numeric columns (code).**"
   ]
  },
  {
   "cell_type": "markdown",
   "id": "b7245e9a",
   "metadata": {},
   "source": [
    "**Answer Key (Q36)**"
   ]
  },
  {
   "cell_type": "code",
   "execution_count": null,
   "id": "56153acf",
   "metadata": {},
   "outputs": [],
   "source": [
    "num_cols = df.select_dtypes(include=[\"number\"]).columns.tolist()\n",
    "scaler = StandardScaler(); df_scaled = df.copy(); df_scaled[num_cols] = scaler.fit_transform(df_scaled[num_cols])"
   ]
  },
  {
   "cell_type": "markdown",
   "id": "8a2cf236",
   "metadata": {},
   "source": [
    "**Q37. Preferred scaler for salary with extreme outliers?**"
   ]
  },
  {
   "cell_type": "markdown",
   "id": "1b1ef783",
   "metadata": {},
   "source": [
    "**Answer Key (Q37)**"
   ]
  },
  {
   "cell_type": "code",
   "execution_count": null,
   "id": "c0e227be",
   "metadata": {},
   "outputs": [],
   "source": [
    "RobustScaler (median/IQR)."
   ]
  },
  {
   "cell_type": "markdown",
   "id": "463f0d9f",
   "metadata": {},
   "source": [
    "**Q38. Why scaling matters for PCA?**"
   ]
  },
  {
   "cell_type": "markdown",
   "id": "fc9d86c7",
   "metadata": {},
   "source": [
    "**Answer Key (Q38)**\n",
    "\n",
    "PCA is variance-based; unscaled high-variance features dominate components."
   ]
  },
  {
   "cell_type": "markdown",
   "id": "890e023e",
   "metadata": {},
   "source": [
    "**Q39. Does scaling matter for trees?**"
   ]
  },
  {
   "cell_type": "markdown",
   "id": "612d5925",
   "metadata": {},
   "source": [
    "**Answer Key (Q39)**\n",
    "\n",
    "Generally no; trees use order, not distances."
   ]
  },
  {
   "cell_type": "markdown",
   "id": "7432ed43",
   "metadata": {},
   "source": [
    "**Q40. Compare histograms pre/post scaling (code).**"
   ]
  },
  {
   "cell_type": "markdown",
   "id": "9296681d",
   "metadata": {},
   "source": [
    "**Answer Key (Q40)**"
   ]
  },
  {
   "cell_type": "code",
   "execution_count": null,
   "id": "0d202af9",
   "metadata": {},
   "outputs": [],
   "source": [
    "df[num_cols].hist(figsize=(10,6)); plt.suptitle(\"Before\"); plt.show()\n",
    "df_scaled[num_cols].hist(figsize=(10,6)); plt.suptitle(\"After\"); plt.show()"
   ]
  },
  {
   "cell_type": "markdown",
   "id": "9e38866d",
   "metadata": {},
   "source": [
    "## Step 9 — Datetime Features"
   ]
  },
  {
   "cell_type": "markdown",
   "id": "e73a2ffa",
   "metadata": {},
   "source": [
    "**Q41. Extract year, month, weekday from joined_on (code).**"
   ]
  },
  {
   "cell_type": "markdown",
   "id": "db58ae64",
   "metadata": {},
   "source": [
    "**Answer Key (Q41)**"
   ]
  },
  {
   "cell_type": "code",
   "execution_count": null,
   "id": "2cf18c5b",
   "metadata": {},
   "outputs": [],
   "source": [
    "dt = pd.to_datetime(df[\"joined_on\"], errors=\"coerce\")\n",
    "df[\"year\"] = dt.dt.year; df[\"month\"] = dt.dt.month; df[\"weekday\"] = dt.dt.weekday"
   ]
  },
  {
   "cell_type": "markdown",
   "id": "22cf418b",
   "metadata": {},
   "source": [
    "**Q42. Why days_since_signup beats raw date?**"
   ]
  },
  {
   "cell_type": "markdown",
   "id": "9129d4d6",
   "metadata": {},
   "source": [
    "**Answer Key (Q42)**\n",
    "\n",
    "Captures recency/tenure signal rather than arbitrary calendar stamps."
   ]
  },
  {
   "cell_type": "markdown",
   "id": "ad04d3fc",
   "metadata": {},
   "source": [
    "**Q43. Create is_weekend (code).**"
   ]
  },
  {
   "cell_type": "markdown",
   "id": "df9d8991",
   "metadata": {},
   "source": [
    "**Answer Key (Q43)**"
   ]
  },
  {
   "cell_type": "code",
   "execution_count": null,
   "id": "eb2ae787",
   "metadata": {},
   "outputs": [],
   "source": [
    "df[\"is_weekend\"] = (dt.dt.weekday >= 5).astype(int)"
   ]
  },
  {
   "cell_type": "markdown",
   "id": "d79b142d",
   "metadata": {},
   "source": [
    "**Q44. Why quarter useful in retail?**"
   ]
  },
  {
   "cell_type": "markdown",
   "id": "5f0ea89a",
   "metadata": {},
   "source": [
    "**Answer Key (Q44)**"
   ]
  },
  {
   "cell_type": "code",
   "execution_count": null,
   "id": "18488e8f",
   "metadata": {},
   "outputs": [],
   "source": [
    "Seasonality and quarterly cycles (promotions, budgets)."
   ]
  },
  {
   "cell_type": "markdown",
   "id": "b9fcba58",
   "metadata": {},
   "source": [
    "**Q45. Pitfall of one-hot encoding year?**"
   ]
  },
  {
   "cell_type": "markdown",
   "id": "b4e3e243",
   "metadata": {},
   "source": [
    "**Answer Key (Q45)**\n",
    "\n",
    "Temporal leakage/overfit; years proxy trends rather than stable categories."
   ]
  },
  {
   "cell_type": "markdown",
   "id": "60baf6ab",
   "metadata": {},
   "source": [
    "## Step 10 — Binning"
   ]
  },
  {
   "cell_type": "markdown",
   "id": "1072edd0",
   "metadata": {},
   "source": [
    "**Q46. Bin income into 5 quantile bins using KBinsDiscretizer (code).**"
   ]
  },
  {
   "cell_type": "markdown",
   "id": "c3385d8a",
   "metadata": {},
   "source": [
    "**Answer Key (Q46)**"
   ]
  },
  {
   "cell_type": "code",
   "execution_count": null,
   "id": "0718c8b1",
   "metadata": {},
   "outputs": [],
   "source": [
    "kb = KBinsDiscretizer(n_bins=5, encode=\"ordinal\", strategy=\"quantile\")\n",
    "df[\"income_bin\"] = kb.fit_transform(df[[\"income\"]]).astype(int)"
   ]
  },
  {
   "cell_type": "markdown",
   "id": "a7929ba4",
   "metadata": {},
   "source": [
    "**Q47. How binning helps logistic regression?**"
   ]
  },
  {
   "cell_type": "markdown",
   "id": "76d205c8",
   "metadata": {},
   "source": [
    "**Answer Key (Q47)**\n",
    "\n",
    "Introduces threshold/piecewise effects approximating non-linear relationships."
   ]
  },
  {
   "cell_type": "markdown",
   "id": "8f6e9605",
   "metadata": {},
   "source": [
    "**Q48. pd.cut vs pd.qcut for age — which equalizes counts?**"
   ]
  },
  {
   "cell_type": "markdown",
   "id": "ca218e07",
   "metadata": {},
   "source": [
    "**Answer Key (Q48)**"
   ]
  },
  {
   "cell_type": "code",
   "execution_count": null,
   "id": "a871f38d",
   "metadata": {},
   "outputs": [],
   "source": [
    "pd.qcut (quantile-based)."
   ]
  },
  {
   "cell_type": "markdown",
   "id": "6cf3d976",
   "metadata": {},
   "source": [
    "**Q49. Why is binning common in credit scoring?**"
   ]
  },
  {
   "cell_type": "markdown",
   "id": "190f04b4",
   "metadata": {},
   "source": [
    "**Answer Key (Q49)**\n",
    "\n",
    "Stability, interpretability, monotonic WOE/IV transformations."
   ]
  },
  {
   "cell_type": "markdown",
   "id": "cea250a1",
   "metadata": {},
   "source": [
    "**Q50. Drawback of fixed bins across populations?**"
   ]
  },
  {
   "cell_type": "markdown",
   "id": "c5a83a2f",
   "metadata": {},
   "source": [
    "**Answer Key (Q50)**\n",
    "\n",
    "Drift/shift causes uneven coverage; bins go stale across cohorts."
   ]
  },
  {
   "cell_type": "markdown",
   "id": "2aa13042",
   "metadata": {},
   "source": [
    "## Step 11 — Feature Selection"
   ]
  },
  {
   "cell_type": "markdown",
   "id": "8bf80bde",
   "metadata": {},
   "source": [
    "**Q51. Why remove near-constant features?**"
   ]
  },
  {
   "cell_type": "markdown",
   "id": "8ffa3ad6",
   "metadata": {},
   "source": [
    "**Answer Key (Q51)**\n",
    "\n",
    "Low information content; add noise/compute overhead."
   ]
  },
  {
   "cell_type": "markdown",
   "id": "518a214f",
   "metadata": {},
   "source": [
    "**Q52. Top-5 features via MI (code).**"
   ]
  },
  {
   "cell_type": "markdown",
   "id": "9cc52c11",
   "metadata": {},
   "source": [
    "**Answer Key (Q52)**"
   ]
  },
  {
   "cell_type": "code",
   "execution_count": null,
   "id": "75333f8c",
   "metadata": {},
   "outputs": [],
   "source": [
    "numX = df.select_dtypes(include=[\"number\"]).drop(columns=[\"churn\"], errors=\"ignore\")\n",
    "y = df[\"churn\"].astype(int)\n",
    "mi = mutual_info_classif(numX.fillna(numX.median()), y, random_state=42)\n",
    "order = mi.argsort()[::-1][:5]\n",
    "top5 = numX.columns[order].tolist(); top5"
   ]
  },
  {
   "cell_type": "markdown",
   "id": "094cd19a",
   "metadata": {},
   "source": [
    "**Q53. How MI differs from correlation?**"
   ]
  },
  {
   "cell_type": "markdown",
   "id": "c76b174d",
   "metadata": {},
   "source": [
    "**Answer Key (Q53)**"
   ]
  },
  {
   "cell_type": "code",
   "execution_count": null,
   "id": "32840614",
   "metadata": {},
   "outputs": [],
   "source": [
    "MI captures any (nonlinear) dependency; correlation measures linear association only."
   ]
  },
  {
   "cell_type": "markdown",
   "id": "05d24c7c",
   "metadata": {},
   "source": [
    "**Q54. When prefer wrappers like RFECV?**"
   ]
  },
  {
   "cell_type": "markdown",
   "id": "1ee4b33a",
   "metadata": {},
   "source": [
    "**Answer Key (Q54)**\n",
    "\n",
    "When model-aware selection and interactions matter for performance."
   ]
  },
  {
   "cell_type": "markdown",
   "id": "38f92b27",
   "metadata": {},
   "source": [
    "**Q55. Risk of selecting features before split?**"
   ]
  },
  {
   "cell_type": "markdown",
   "id": "87720ef9",
   "metadata": {},
   "source": [
    "**Answer Key (Q55)**\n",
    "\n",
    "Leakage—metrics inflated by using information from the whole dataset."
   ]
  },
  {
   "cell_type": "markdown",
   "id": "843b9510",
   "metadata": {},
   "source": [
    "## Step 12 — Leakage-Safe Pipelines"
   ]
  },
  {
   "cell_type": "markdown",
   "id": "f1ce5cd9",
   "metadata": {},
   "source": [
    "**Q56. Why transforms must live inside CV folds?**"
   ]
  },
  {
   "cell_type": "markdown",
   "id": "863f63ca",
   "metadata": {},
   "source": [
    "**Answer Key (Q56)**\n",
    "\n",
    "To prevent leakage: validation data must remain unseen by fitted transformers."
   ]
  },
  {
   "cell_type": "markdown",
   "id": "cbd74f62",
   "metadata": {},
   "source": [
    "**Q57. Build pipeline: impute → scale → logistic regression (code).**"
   ]
  },
  {
   "cell_type": "markdown",
   "id": "a6f37c48",
   "metadata": {},
   "source": [
    "**Answer Key (Q57)**"
   ]
  },
  {
   "cell_type": "code",
   "execution_count": null,
   "id": "a4413e30",
   "metadata": {},
   "outputs": [],
   "source": [
    "num_cols = df.select_dtypes(include=[\"number\"]).drop(columns=[\"churn\"], errors=\"ignore\").columns.tolist()\n",
    "cat_cols = df.select_dtypes(include=[\"object\",\"category\"]).columns.tolist()\n",
    "pre = ColumnTransformer([\n",
    "    (\"num\", Pipeline([(\"imp\", SimpleImputer(strategy=\"median\")), (\"sc\", StandardScaler())]), num_cols),\n",
    "    (\"cat\", Pipeline([(\"imp\", SimpleImputer(strategy=\"most_frequent\")), (\"oh\", OneHotEncoder(handle_unknown=\"ignore\"))]), cat_cols),\n",
    "])\n",
    "pipe = Pipeline([(\"pre\", pre), (\"clf\", LogisticRegression(max_iter=300))])\n",
    "scores = cross_val_score(pipe, df.drop(columns=[\"churn\"]), df[\"churn\"], cv=5, scoring=\"f1\")\n",
    "scores.mean().round(3)"
   ]
  },
  {
   "cell_type": "markdown",
   "id": "ac1865f1",
   "metadata": {},
   "source": [
    "**Q58. Fitting transformer on full data vs training only — difference?**"
   ]
  },
  {
   "cell_type": "markdown",
   "id": "7066dd26",
   "metadata": {},
   "source": [
    "**Answer Key (Q58)**\n",
    "\n",
    "Full-data fit leaks validation info; training-only preserves honest evaluation."
   ]
  },
  {
   "cell_type": "markdown",
   "id": "d6ee1699",
   "metadata": {},
   "source": [
    "**Q59. How ColumnTransformer helps with mixed types?**"
   ]
  },
  {
   "cell_type": "markdown",
   "id": "20adfcab",
   "metadata": {},
   "source": [
    "**Answer Key (Q59)**\n",
    "\n",
    "Routes different preprocessors safely to numeric vs categorical feature sets."
   ]
  },
  {
   "cell_type": "markdown",
   "id": "3341ca90",
   "metadata": {},
   "source": [
    "**Q60. Why leakage worse in time series?**"
   ]
  },
  {
   "cell_type": "markdown",
   "id": "b8332c8d",
   "metadata": {},
   "source": [
    "**Answer Key (Q60)**\n",
    "\n",
    "Look-ahead bias; future info contaminates evaluation."
   ]
  },
  {
   "cell_type": "markdown",
   "id": "d19d1dd4",
   "metadata": {},
   "source": [
    "## Step 13 — End-to-End Integration"
   ]
  },
  {
   "cell_type": "markdown",
   "id": "b6fda7b4",
   "metadata": {},
   "source": [
    "**Q61. Pipeline with KNNImputer, StandardScaler, RandomForestClassifier (code).**"
   ]
  },
  {
   "cell_type": "markdown",
   "id": "91c5f8b9",
   "metadata": {},
   "source": [
    "**Answer Key (Q61)**"
   ]
  },
  {
   "cell_type": "code",
   "execution_count": null,
   "id": "9b8aed4a",
   "metadata": {},
   "outputs": [],
   "source": [
    "features = df.drop(columns=[\"churn\"])\n",
    "target = df[\"churn\"].astype(int)\n",
    "num_cols = features.select_dtypes(include=[\"number\"]).columns.tolist()\n",
    "cat_cols = features.select_dtypes(include=[\"object\",\"category\"]).columns.tolist()\n",
    "pre = ColumnTransformer([\n",
    "    (\"num\", Pipeline([(\"imp\", KNNImputer(n_neighbors=5)), (\"sc\", StandardScaler())]), num_cols),\n",
    "    (\"cat\", Pipeline([(\"imp\", SimpleImputer(strategy=\"most_frequent\")), (\"oh\", OneHotEncoder(handle_unknown=\"ignore\"))]), cat_cols),\n",
    "])\n",
    "pipe = Pipeline([(\"pre\", pre), (\"rf\", RandomForestClassifier(n_estimators=250, random_state=42))])\n",
    "print(cross_val_score(pipe, features, target, cv=5, scoring=\"f1\").mean().round(3))"
   ]
  },
  {
   "cell_type": "markdown",
   "id": "34df4201",
   "metadata": {},
   "source": [
    "**Q62. Pipeline fails on unseen categories at inference. Fix?**"
   ]
  },
  {
   "cell_type": "markdown",
   "id": "f6afcc06",
   "metadata": {},
   "source": [
    "**Answer Key (Q62)**"
   ]
  },
  {
   "cell_type": "code",
   "execution_count": null,
   "id": "afc711c2",
   "metadata": {},
   "outputs": [],
   "source": [
    "Use OneHotEncoder(handle_unknown=\"ignore\") or map rare/unseen to 'Unknown' bucket pre-encode; schedule retraining."
   ]
  },
  {
   "cell_type": "markdown",
   "id": "236d87d0",
   "metadata": {},
   "source": [
    "**Q63. Why use Pipeline over manual sequencing?**"
   ]
  },
  {
   "cell_type": "markdown",
   "id": "12edb1d8",
   "metadata": {},
   "source": [
    "**Answer Key (Q63)**\n",
    "\n",
    "Ensures order/reproducibility and leakage safety across CV & production."
   ]
  },
  {
   "cell_type": "markdown",
   "id": "dab0a247",
   "metadata": {},
   "source": [
    "**Q64. Add PCA (3 comps) to numeric branch after scaling (code).**"
   ]
  },
  {
   "cell_type": "markdown",
   "id": "7d45d7dd",
   "metadata": {},
   "source": [
    "**Answer Key (Q64)**"
   ]
  },
  {
   "cell_type": "code",
   "execution_count": null,
   "id": "9306ac3e",
   "metadata": {},
   "outputs": [],
   "source": [
    "num_branch = Pipeline([(\"imp\", SimpleImputer(strategy=\"median\")), (\"sc\", StandardScaler()), (\"pca\", PCA(n_components=3, random_state=42))])\n",
    "pre = ColumnTransformer([(\"num\", num_branch, num_cols), (\"cat\", Pipeline([(\"imp\", SimpleImputer(strategy=\"most_frequent\")), (\"oh\", OneHotEncoder(handle_unknown=\"ignore\"))]), cat_cols)])"
   ]
  },
  {
   "cell_type": "markdown",
   "id": "3b48ee7b",
   "metadata": {},
   "source": [
    "**Q65. Deployed model sees new region levels. Strategy?**"
   ]
  },
  {
   "cell_type": "markdown",
   "id": "648c0e9a",
   "metadata": {},
   "source": [
    "**Answer Key (Q65)**\n",
    "\n",
    "Keep encoder with handle_unknown='ignore', add periodic retraining, and consider rare-category bucketing."
   ]
  }
 ],
 "metadata": {},
 "nbformat": 4,
 "nbformat_minor": 5
}
